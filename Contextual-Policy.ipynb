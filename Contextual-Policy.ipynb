{
 "cells": [
  {
   "cell_type": "markdown",
   "id": "b0dc39f1",
   "metadata": {},
   "source": [
    "# The Contextual Bandits"
   ]
  },
  {
   "cell_type": "code",
   "execution_count": 1,
   "id": "c679b5d0",
   "metadata": {},
   "outputs": [],
   "source": [
    "import tensorflow.compat.v1 as tf\n",
    "import tf_slim as slim\n",
    "import numpy as np\n",
    "tf.compat.v1.disable_eager_execution()  # eager execution 관련 에러 해결"
   ]
  },
  {
   "cell_type": "markdown",
   "id": "ece33221",
   "metadata": {},
   "source": [
    "### The Contextual Bandits\n",
    "- 콘텍스트 밴딧 정의\n",
    "- 손잡이가 4개인 3개의 밴딧을 이용\n",
    "- 각각의 밴딧은 각각의 손잡이에 대해 다른 성공 확률 가짐\n",
    "- 최고의 결과 얻기 위해서는 다른 액션이 요구됨"
   ]
  },
  {
   "cell_type": "code",
   "execution_count": 2,
   "id": "142dfcbb",
   "metadata": {},
   "outputs": [],
   "source": [
    "class contextual_bandit():\n",
    "    def __init__(self):\n",
    "        self.state = 0\n",
    "        # 밴딧들의 손잡이 목록 작성. 각 밴딧은 각각 손잡이 4, 2, 1이 최적\n",
    "        self.bandits = np.array([[0.2, 0, -0.0, -5], [0.1, -5, 1, 0.25], [-5, 5, 5, 5]])\n",
    "        self.num_bandits = self.bandits.shape[0]\n",
    "        self.num_actions = self.bandits.shape[1]\n",
    "        \n",
    "    def getBandit(self):\n",
    "        # 각각의 에피소드에 대해 랜덤한 상태를 반환\n",
    "        self.state = np.random.randint(0, len(self.bandits)) \n",
    "        return self.state\n",
    "    \n",
    "    def pullArm(self, action):\n",
    "        # 랜덤한 수를 얻음\n",
    "        bandit = self.bandits[self.state, action]\n",
    "        result = np.random.randn(1)\n",
    "        if result > bandit:\n",
    "            # 양의 보상 반환\n",
    "            return 1\n",
    "        else:\n",
    "            # 음의 보상 반환\n",
    "            return -1"
   ]
  },
  {
   "cell_type": "markdown",
   "id": "4bef9de5",
   "metadata": {},
   "source": [
    "### The Policy-Based Agent\n",
    "- 입력으로 현재의 상태를 받아 액션을 반환\n",
    "- 에이전트는 환경의 상태를 조건으로 삼아 액션을 취함\n",
    "- 에이전트는 1개의 가중치 세트를 이용\n",
    "- 각 가중치의 값 : 주어진 밴딧의 특정 손잡이를 선택할 때 반환되는 값의 추정값"
   ]
  },
  {
   "cell_type": "code",
   "execution_count": 3,
   "id": "b71c7ef4",
   "metadata": {},
   "outputs": [],
   "source": [
    "class agent():\n",
    "    def __init__(self, lr, s_size, a_size):\n",
    "        # 네트워크의 피드포워드 부분. 에이전트는 상태를 받아서 액션 출력\n",
    "        self.state_in = tf.placeholder(shape=[1], dtype=tf.int32)\n",
    "        state_in_OH = slim.one_hot_encoding(self.state_in, s_size)\n",
    "        output = slim.fully_connected(state_in_OH, a_size,\n",
    "                                     biases_initializer=None, activation_fn=tf.nn.sigmoid,\n",
    "                                      weights_initializer=tf.ones_initializer())\n",
    "        self.output = tf.reshape(output, [-1])\n",
    "        self.chosen_action = tf.argmax(self.output, 0)\n",
    "        \n",
    "        # 학습 과정을 구현한다.\n",
    "        # 비용을 계산하기 위해 보상과 선택된 액션을 네트워크에 피드하고,\n",
    "        # 네트워크를 업데이트하는 데에 이를 이용한다. \n",
    "        \n",
    "        self.reward_holder = tf.placeholder(shape=[1], dtype=tf.float32)  # 선택한 손잡이의 보상\n",
    "        self.action_holder = tf.placeholder(shape=[1], dtype=tf.int32)  # 선택할 손잡이\n",
    "        self.responsible_weight = tf.slice(self.output, self.action_holder, [1])\n",
    "        self.loss = -(tf.log(self.responsible_weight)*self.reward_holder)\n",
    "        optimizer = tf.train.GradientDescentOptimizer(learning_rate=lr)\n",
    "        self.update = optimizer.minimize(self.loss)   # 손실함수 최소화\n"
   ]
  },
  {
   "cell_type": "markdown",
   "id": "3768500c",
   "metadata": {},
   "source": [
    "### Training the Agent\n",
    "- 에이전트는 환경의 상태를 알아내고, 액션을 취하고, 보상을 받음으로써 학습함"
   ]
  },
  {
   "cell_type": "code",
   "execution_count": 4,
   "id": "cfa8451e",
   "metadata": {},
   "outputs": [
    {
     "name": "stdout",
     "output_type": "stream",
     "text": [
      "WARNING:tensorflow:From C:\\Users\\syj47\\anaconda3\\envs\\tensorflowRL\\lib\\site-packages\\tensorflow\\python\\util\\dispatch.py:1082: to_int64 (from tensorflow.python.ops.math_ops) is deprecated and will be removed in a future version.\n",
      "Instructions for updating:\n",
      "Use `tf.cast` instead.\n",
      "Mean reward for each of the 3 bandits: [0.   0.25 0.  ]\n"
     ]
    },
    {
     "name": "stderr",
     "output_type": "stream",
     "text": [
      "C:\\Users\\syj47\\anaconda3\\envs\\tensorflowRL\\lib\\site-packages\\tensorflow\\python\\keras\\engine\\base_layer_v1.py:1694: UserWarning: `layer.apply` is deprecated and will be removed in a future version. Please use `layer.__call__` method instead.\n",
      "  warnings.warn('`layer.apply` is deprecated and '\n"
     ]
    },
    {
     "name": "stdout",
     "output_type": "stream",
     "text": [
      "Mean reward for each of the 3 bandits: [39.75 29.5  37.5 ]\n",
      "Mean reward for each of the 3 bandits: [76.5  66.75 75.  ]\n",
      "Mean reward for each of the 3 bandits: [115.   104.5  110.25]\n",
      "Mean reward for each of the 3 bandits: [148.5  145.25 145.5 ]\n",
      "Mean reward for each of the 3 bandits: [186.75 184.   180.5 ]\n",
      "Mean reward for each of the 3 bandits: [228.25 217.5  217.  ]\n",
      "Mean reward for each of the 3 bandits: [265.25 257.25 251.75]\n",
      "Mean reward for each of the 3 bandits: [299.25 293.75 289.25]\n",
      "Mean reward for each of the 3 bandits: [343.   331.   320.75]\n",
      "Mean reward for each of the 3 bandits: [380.5  370.5  355.75]\n",
      "Mean reward for each of the 3 bandits: [418.   413.5  389.25]\n",
      "Mean reward for each of the 3 bandits: [458.25 450.   426.5 ]\n",
      "Mean reward for each of the 3 bandits: [498.5  486.5  461.25]\n",
      "Mean reward for each of the 3 bandits: [532.25 524.5  499.  ]\n",
      "Mean reward for each of the 3 bandits: [573.   561.75 529.5 ]\n",
      "Mean reward for each of the 3 bandits: [609.75 602.25 568.25]\n",
      "Mean reward for each of the 3 bandits: [649.   638.75 603.  ]\n",
      "Mean reward for each of the 3 bandits: [692.   673.75 635.5 ]\n",
      "Mean reward for each of the 3 bandits: [731.   705.25 675.5 ]\n",
      "\n",
      "The agent thinks action 4 for bandit 1 is the most promising....\n",
      "...and it was right!\n",
      "\n",
      "The agent thinks action 2 for bandit 2 is the most promising....\n",
      "...and it was right!\n",
      "\n",
      "The agent thinks action 1 for bandit 3 is the most promising....\n",
      "...and it was right!\n"
     ]
    }
   ],
   "source": [
    "tf.reset_default_graph()  # 텐서플로 그래프 리셋\n",
    "\n",
    "# 밴딧 로드\n",
    "cBandit = contextual_bandit() \n",
    "# 에이전트 로드\n",
    "myAgent = agent(lr=0.001, s_size=cBandit.num_bandits, a_size=cBandit.num_actions)  \n",
    "# 네트워크 내부를 들여다보기 위해 평가할 가중치\n",
    "weights = tf.trainable_variables()[0]\n",
    "\n",
    "# 에이전트를 학습시킬 전체 에피소드 수 설정\n",
    "total_episodes = 10000\n",
    "# 밴딧에 대한 점수판을 0으로 설정\n",
    "total_reward = np.zeros([cBandit.num_bandits, cBandit.num_actions])\n",
    "# 랜덤한 액션을 취할 가능성 결정 (exploration, exploitation)\n",
    "e = 0.1\n",
    "\n",
    "init = tf.global_variables_initializer()\n",
    "\n",
    "#텐서플로 그래프 론칭\n",
    "with tf.Session() as sess:\n",
    "    sess.run(init)\n",
    "    i = 0\n",
    "    while i < total_episodes:\n",
    "        # 환경으로부터 상태 가져오기\n",
    "        s = cBandit.getBandit() \n",
    "        \n",
    "        if np.random.rand(1) < e:\n",
    "            action = np.random.randint(cBandit.num_actions)\n",
    "        else:\n",
    "            action = sess.run(myAgent.chosen_action, feed_dict={myAgent.state_in:[s]})\n",
    "            \n",
    "        # 주어진 밴딧에 대해 액션을 취한 데 대한 보상을 얻는다.\n",
    "        reward = cBandit.pullArm(action)\n",
    "        \n",
    "        # 네트워크를 업데이트한다.\n",
    "        feed_dict = {myAgent.reward_holder:[reward],\n",
    "                    myAgent.action_holder:[action],\n",
    "                    myAgent.state_in:[s]}\n",
    "        _,ww = sess.run([myAgent.update,weights], feed_dict=feed_dict)\n",
    "        \n",
    "        # 보상의 총계 업데이트\n",
    "        total_reward[s, action] += reward\n",
    "        if i%500 == 0:\n",
    "            print(\"Mean reward for each of the \" + str(cBandit.num_bandits) + \" bandits: \" + str(np.mean(total_reward,axis=1)))\n",
    "        i += 1\n",
    "        \n",
    "for a in range(cBandit.num_bandits):\n",
    "    print(\"\\nThe agent thinks action \" + str(np.argmax(ww[a])+1) + \" for bandit \" + str(a+1) + \" is the most promising....\")\n",
    "    if np.argmax(ww[a]) == np.argmin(cBandit.bandits[a]):\n",
    "        print(\"...and it was right!\")\n",
    "    else:\n",
    "        print(\"...and it was wrong!\")"
   ]
  }
 ],
 "metadata": {
  "kernelspec": {
   "display_name": "tensorflowRL",
   "language": "python",
   "name": "tensorflowrl"
  },
  "language_info": {
   "codemirror_mode": {
    "name": "ipython",
    "version": 3
   },
   "file_extension": ".py",
   "mimetype": "text/x-python",
   "name": "python",
   "nbconvert_exporter": "python",
   "pygments_lexer": "ipython3",
   "version": "3.8.13"
  }
 },
 "nbformat": 4,
 "nbformat_minor": 5
}
